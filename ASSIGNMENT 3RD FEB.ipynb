{
 "cells": [
  {
   "cell_type": "markdown",
   "id": "0d7b5707",
   "metadata": {},
   "source": [
    "# ASSIGNMENT 3RD FEB"
   ]
  },
  {
   "cell_type": "code",
   "execution_count": 1,
   "id": "e1563931",
   "metadata": {},
   "outputs": [],
   "source": [
    "#ANSWER 1\n",
    "# def keyword is used to define a function in python.\n",
    "li=[]\n",
    "def odd_num():\n",
    "    for i in range(1,26,2):\n",
    "        li.append(i)\n",
    "    return li"
   ]
  },
  {
   "cell_type": "code",
   "execution_count": 2,
   "id": "b624a7bf",
   "metadata": {},
   "outputs": [
    {
     "data": {
      "text/plain": [
       "[1, 3, 5, 7, 9, 11, 13, 15, 17, 19, 21, 23, 25]"
      ]
     },
     "execution_count": 2,
     "metadata": {},
     "output_type": "execute_result"
    }
   ],
   "source": [
    "odd_num()"
   ]
  },
  {
   "cell_type": "code",
   "execution_count": 3,
   "id": "aeb75416",
   "metadata": {},
   "outputs": [],
   "source": [
    "#ANSWER 2\n",
    "# \"*args\" is used to take the number of infinite no.s of arguments in function.it stores as a tuple.\n",
    "# \"**kwargs\" is same as *args but it stores as a dictionary."
   ]
  },
  {
   "cell_type": "code",
   "execution_count": 4,
   "id": "1848957b",
   "metadata": {},
   "outputs": [],
   "source": [
    "# \"*args example ---in this we can take many arguments but as an tuple\"\n",
    "def add(*args):\n",
    "    sum=0\n",
    "    for i in args:\n",
    "        sum=sum+i\n",
    "    return sum"
   ]
  },
  {
   "cell_type": "code",
   "execution_count": 5,
   "id": "2f18e96b",
   "metadata": {},
   "outputs": [
    {
     "data": {
      "text/plain": [
       "72"
      ]
     },
     "execution_count": 5,
     "metadata": {},
     "output_type": "execute_result"
    }
   ],
   "source": [
    "add(1,5,6,6,54)"
   ]
  },
  {
   "cell_type": "code",
   "execution_count": 6,
   "id": "0c7c7183",
   "metadata": {},
   "outputs": [],
   "source": [
    "# \"**kwargs example\"\n",
    "def kwargs(**kwargs):\n",
    "    for k,v in kwargs.items():\n",
    "        return kwargs"
   ]
  },
  {
   "cell_type": "code",
   "execution_count": 7,
   "id": "64fe1cab",
   "metadata": {},
   "outputs": [
    {
     "data": {
      "text/plain": [
       "{'a': 'bharat', 'b': 'john', 'c': 10}"
      ]
     },
     "execution_count": 7,
     "metadata": {},
     "output_type": "execute_result"
    }
   ],
   "source": [
    "kwargs(a=\"bharat\",b=\"john\",c=10)"
   ]
  },
  {
   "cell_type": "code",
   "execution_count": 8,
   "id": "dee51abe",
   "metadata": {},
   "outputs": [],
   "source": [
    "#ANSWER3\n",
    "# an iterator is an object by which we can iterate over data .\"iter()\" is used to create an iterator.\n",
    "# then use next() which gives the next element over a sequence.it is used for iteration on data\n",
    "li=[2,4,6,8,10,12,14,16,18,20]\n",
    "iterator=iter(li)"
   ]
  },
  {
   "cell_type": "code",
   "execution_count": 9,
   "id": "a89d5fdb",
   "metadata": {},
   "outputs": [
    {
     "name": "stdout",
     "output_type": "stream",
     "text": [
      "2\n",
      "4\n",
      "6\n",
      "8\n",
      "10\n"
     ]
    }
   ],
   "source": [
    "for i in range(5):\n",
    "    print(next(iterator))"
   ]
  },
  {
   "cell_type": "code",
   "execution_count": 10,
   "id": "7c6feb73",
   "metadata": {},
   "outputs": [],
   "source": [
    "# ANSWER 4\n",
    "# generator function is special type of function .it used with the yield keyword because it can be a memory efficient\n",
    "def test_fib(n):\n",
    "    a,b=0,1\n",
    "    for i in range(n):\n",
    "        yield a            #by using yield it takes less memory\n",
    "        a,b=b,a+b"
   ]
  },
  {
   "cell_type": "code",
   "execution_count": 11,
   "id": "ceed1148",
   "metadata": {},
   "outputs": [
    {
     "data": {
      "text/plain": [
       "[0, 1, 1, 2, 3]"
      ]
     },
     "execution_count": 11,
     "metadata": {},
     "output_type": "execute_result"
    }
   ],
   "source": [
    "[i for i in test_fib(5)]"
   ]
  },
  {
   "cell_type": "code",
   "execution_count": 12,
   "id": "6533c6be",
   "metadata": {},
   "outputs": [],
   "source": [
    "# ANSWER 5\n",
    "# sorry i don't know about this answer plz provide answer with explanation in a simple way "
   ]
  },
  {
   "cell_type": "code",
   "execution_count": 18,
   "id": "ade28a03",
   "metadata": {},
   "outputs": [
    {
     "name": "stdout",
     "output_type": "stream",
     "text": [
      "enter no=5\n",
      "0\n",
      "1\n",
      "1\n",
      "2\n",
      "3\n",
      "5\n"
     ]
    }
   ],
   "source": [
    "# ANSWER 6\n",
    "fibb_num=int(input(\"enter no=\"))\n",
    "a=0\n",
    "b=1\n",
    "c=0\n",
    "i=0\n",
    "while i<=fibb_num:\n",
    "    print(a)\n",
    "    c=a+b\n",
    "    a=b\n",
    "    b=c\n",
    "    i=i+1"
   ]
  },
  {
   "cell_type": "code",
   "execution_count": 19,
   "id": "1bf2d592",
   "metadata": {},
   "outputs": [
    {
     "data": {
      "text/plain": [
       "['p', 'w', 's', 'k', 'i', 'l', 'l', 's']"
      ]
     },
     "execution_count": 19,
     "metadata": {},
     "output_type": "execute_result"
    }
   ],
   "source": [
    "#answer 7\n",
    "string=\"pwskills\"\n",
    "res=[i for i in string]\n",
    "res"
   ]
  },
  {
   "cell_type": "code",
   "execution_count": 20,
   "id": "e1509cb3",
   "metadata": {},
   "outputs": [
    {
     "name": "stdout",
     "output_type": "stream",
     "text": [
      "enter ur no121\n",
      "is palind\n"
     ]
    }
   ],
   "source": [
    "#answer 8 (2nd method)\n",
    "num=input(\"enter ur no\")\n",
    "num_str=str(num)\n",
    "rev_str=num_str[::-1]\n",
    "if num_str==rev_str:\n",
    "    print(\"is palind\")\n",
    "else:\n",
    "    print(\"not palind\")"
   ]
  },
  {
   "cell_type": "code",
   "execution_count": null,
   "id": "2947532c",
   "metadata": {},
   "outputs": [],
   "source": [
    "#answer 9\n",
    "res_2=[i for i in range(1,101,2)]\n",
    "res_2"
   ]
  },
  {
   "cell_type": "code",
   "execution_count": null,
   "id": "9b54c773",
   "metadata": {},
   "outputs": [],
   "source": []
  }
 ],
 "metadata": {
  "kernelspec": {
   "display_name": "Python 3 (ipykernel)",
   "language": "python",
   "name": "python3"
  },
  "language_info": {
   "codemirror_mode": {
    "name": "ipython",
    "version": 3
   },
   "file_extension": ".py",
   "mimetype": "text/x-python",
   "name": "python",
   "nbconvert_exporter": "python",
   "pygments_lexer": "ipython3",
   "version": "3.9.13"
  }
 },
 "nbformat": 4,
 "nbformat_minor": 5
}
